{
 "cells": [
  {
   "cell_type": "code",
   "execution_count": 1,
   "id": "d322fb9e",
   "metadata": {},
   "outputs": [
    {
     "name": "stderr",
     "output_type": "stream",
     "text": [
      "C:\\Users\\ASUS\\AppData\\Local\\Packages\\PythonSoftwareFoundation.Python.3.11_qbz5n2kfra8p0\\LocalCache\\local-packages\\Python311\\site-packages\\tqdm\\auto.py:21: TqdmWarning: IProgress not found. Please update jupyter and ipywidgets. See https://ipywidgets.readthedocs.io/en/stable/user_install.html\n",
      "  from .autonotebook import tqdm as notebook_tqdm\n"
     ]
    }
   ],
   "source": [
    "import os\n",
    "import pandas as pd\n",
    "import numpy as np\n",
    "import plotly.express as px\n",
    "import plotly.graph_objects as go\n",
    "from sklearn.ensemble import RandomForestRegressor\n",
    "from sklearn.model_selection import train_test_split, GridSearchCV\n",
    "from sklearn.metrics import mean_squared_error, r2_score\n",
    "from sklearn.impute import SimpleImputer\n",
    "from sklearn.inspection import permutation_importance\n",
    "from sklearn.model_selection import train_test_split, GridSearchCV, cross_val_score, KFold\n",
    "import shap\n",
    "import matplotlib.pyplot as plt"
   ]
  },
  {
   "cell_type": "code",
   "execution_count": 2,
   "id": "33e96830",
   "metadata": {},
   "outputs": [
    {
     "name": "stdout",
     "output_type": "stream",
     "text": [
      "Training Random Forest model...\n",
      "Model Performance:\n",
      "  RMSE: 0.83\n",
      "  R²: 0.9310\n"
     ]
    }
   ],
   "source": [
    "# 创建新的输出目录\n",
    "os.makedirs('rf_reports/figures', exist_ok=True)\n",
    "\n",
    "# 读取处理后的数据\n",
    "data = pd.read_csv('data/processed/preprocessed_dataset.csv')\n",
    "\n",
    "# 特别注意：只在特征阶段drop date，并且稍后用SimpleImputer处理缺失\n",
    "X = data.drop(columns=['date', 'tmax'])\n",
    "X = X.select_dtypes(include=[np.number])\n",
    "X = X.dropna(axis=1, how='all')\n",
    "y = data['tmax']\n",
    "\n",
    "# 填补X中的缺失值\n",
    "imputer = SimpleImputer(strategy='median')\n",
    "X_imputed = pd.DataFrame(imputer.fit_transform(X), columns=X.columns)\n",
    "\n",
    "# 删除y中缺失值对应的行\n",
    "mask = ~y.isna()\n",
    "X_imputed = X_imputed.loc[mask]\n",
    "y = y.loc[mask]\n",
    "\n",
    "# 划分训练集和测试集\n",
    "X_train, X_test, y_train, y_test = train_test_split(\n",
    "    X_imputed, y, test_size=0.2, random_state=42\n",
    ")\n",
    "\n",
    "# 训练Random Forest模型\n",
    "print(\"Training Random Forest model...\")\n",
    "rf = RandomForestRegressor(n_estimators=200, random_state=42, n_jobs=-1)\n",
    "rf.fit(X_train, y_train)\n",
    "\n",
    "# 预测\n",
    "y_pred = rf.predict(X_test)\n",
    "\n",
    "# 模型性能\n",
    "rmse = np.sqrt(mean_squared_error(y_test, y_pred))\n",
    "r2 = r2_score(y_test, y_pred)\n",
    "\n",
    "print(f\"Model Performance:\")\n",
    "print(f\"  RMSE: {rmse:.2f}\")\n",
    "print(f\"  R²: {r2:.4f}\")"
   ]
  },
  {
   "cell_type": "code",
   "execution_count": 3,
   "id": "0ddb5d19",
   "metadata": {},
   "outputs": [
    {
     "data": {
      "application/vnd.plotly.v1+json": {
       "config": {
        "plotlyServerURL": "https://plot.ly"
       },
       "data": [
        {
         "hovertemplate": "Importance=%{marker.color}<br>Feature=%{y}<extra></extra>",
         "legendgroup": "",
         "marker": {
          "color": {
           "bdata": "/fHN+8bB5T/0fZjWi+OzPxlpFrkn76Y/qkjYwy0Coz+VWa9qIIuiP0VUn9y3IJQ/YBW7m560ij9pXU8cbYCDP3SPEUjfcH8/RqZbe1X3fD/L5d5QosVrP5W8qNgIAGg/zYBz1PG1Yj/Ws8fH0gFfPykRHAzTS10/",
           "dtype": "f8"
          },
          "coloraxis": "coloraxis",
          "pattern": {
           "shape": ""
          }
         },
         "name": "",
         "orientation": "h",
         "showlegend": false,
         "textposition": "auto",
         "type": "bar",
         "x": {
          "bdata": "/fHN+8bB5T/0fZjWi+OzPxlpFrkn76Y/qkjYwy0Coz+VWa9qIIuiP0VUn9y3IJQ/YBW7m560ij9pXU8cbYCDP3SPEUjfcH8/RqZbe1X3fD/L5d5QosVrP5W8qNgIAGg/zYBz1PG1Yj/Ws8fH0gFfPykRHAzTS10/",
          "dtype": "f8"
         },
         "xaxis": "x",
         "y": [
          "nasa_temp_max_lag1",
          "nasa_temp_avg_lag1",
          "longwave_radiation",
          "ms_tempmax_lag1",
          "solar_radiation",
          "tmin_lag1",
          "ms_temp_lag1",
          "ozone",
          "ms_wind_direction",
          "carbon_monoxide",
          "nasa_wind_speed",
          "nasa_humidity",
          "snow",
          "ms_wind_speed",
          "albedo"
         ],
         "yaxis": "y"
        }
       ],
       "layout": {
        "barmode": "relative",
        "coloraxis": {
         "colorbar": {
          "title": {
           "text": "Importance"
          }
         },
         "colorscale": [
          [
           0,
           "#440154"
          ],
          [
           0.1111111111111111,
           "#482878"
          ],
          [
           0.2222222222222222,
           "#3e4989"
          ],
          [
           0.3333333333333333,
           "#31688e"
          ],
          [
           0.4444444444444444,
           "#26828e"
          ],
          [
           0.5555555555555556,
           "#1f9e89"
          ],
          [
           0.6666666666666666,
           "#35b779"
          ],
          [
           0.7777777777777778,
           "#6ece58"
          ],
          [
           0.8888888888888888,
           "#b5de2b"
          ],
          [
           1,
           "#fde725"
          ]
         ]
        },
        "height": 600,
        "legend": {
         "tracegroupgap": 0
        },
        "template": {
         "data": {
          "bar": [
           {
            "error_x": {
             "color": "#2a3f5f"
            },
            "error_y": {
             "color": "#2a3f5f"
            },
            "marker": {
             "line": {
              "color": "#E5ECF6",
              "width": 0.5
             },
             "pattern": {
              "fillmode": "overlay",
              "size": 10,
              "solidity": 0.2
             }
            },
            "type": "bar"
           }
          ],
          "barpolar": [
           {
            "marker": {
             "line": {
              "color": "#E5ECF6",
              "width": 0.5
             },
             "pattern": {
              "fillmode": "overlay",
              "size": 10,
              "solidity": 0.2
             }
            },
            "type": "barpolar"
           }
          ],
          "carpet": [
           {
            "aaxis": {
             "endlinecolor": "#2a3f5f",
             "gridcolor": "white",
             "linecolor": "white",
             "minorgridcolor": "white",
             "startlinecolor": "#2a3f5f"
            },
            "baxis": {
             "endlinecolor": "#2a3f5f",
             "gridcolor": "white",
             "linecolor": "white",
             "minorgridcolor": "white",
             "startlinecolor": "#2a3f5f"
            },
            "type": "carpet"
           }
          ],
          "choropleth": [
           {
            "colorbar": {
             "outlinewidth": 0,
             "ticks": ""
            },
            "type": "choropleth"
           }
          ],
          "contour": [
           {
            "colorbar": {
             "outlinewidth": 0,
             "ticks": ""
            },
            "colorscale": [
             [
              0,
              "#0d0887"
             ],
             [
              0.1111111111111111,
              "#46039f"
             ],
             [
              0.2222222222222222,
              "#7201a8"
             ],
             [
              0.3333333333333333,
              "#9c179e"
             ],
             [
              0.4444444444444444,
              "#bd3786"
             ],
             [
              0.5555555555555556,
              "#d8576b"
             ],
             [
              0.6666666666666666,
              "#ed7953"
             ],
             [
              0.7777777777777778,
              "#fb9f3a"
             ],
             [
              0.8888888888888888,
              "#fdca26"
             ],
             [
              1,
              "#f0f921"
             ]
            ],
            "type": "contour"
           }
          ],
          "contourcarpet": [
           {
            "colorbar": {
             "outlinewidth": 0,
             "ticks": ""
            },
            "type": "contourcarpet"
           }
          ],
          "heatmap": [
           {
            "colorbar": {
             "outlinewidth": 0,
             "ticks": ""
            },
            "colorscale": [
             [
              0,
              "#0d0887"
             ],
             [
              0.1111111111111111,
              "#46039f"
             ],
             [
              0.2222222222222222,
              "#7201a8"
             ],
             [
              0.3333333333333333,
              "#9c179e"
             ],
             [
              0.4444444444444444,
              "#bd3786"
             ],
             [
              0.5555555555555556,
              "#d8576b"
             ],
             [
              0.6666666666666666,
              "#ed7953"
             ],
             [
              0.7777777777777778,
              "#fb9f3a"
             ],
             [
              0.8888888888888888,
              "#fdca26"
             ],
             [
              1,
              "#f0f921"
             ]
            ],
            "type": "heatmap"
           }
          ],
          "histogram": [
           {
            "marker": {
             "pattern": {
              "fillmode": "overlay",
              "size": 10,
              "solidity": 0.2
             }
            },
            "type": "histogram"
           }
          ],
          "histogram2d": [
           {
            "colorbar": {
             "outlinewidth": 0,
             "ticks": ""
            },
            "colorscale": [
             [
              0,
              "#0d0887"
             ],
             [
              0.1111111111111111,
              "#46039f"
             ],
             [
              0.2222222222222222,
              "#7201a8"
             ],
             [
              0.3333333333333333,
              "#9c179e"
             ],
             [
              0.4444444444444444,
              "#bd3786"
             ],
             [
              0.5555555555555556,
              "#d8576b"
             ],
             [
              0.6666666666666666,
              "#ed7953"
             ],
             [
              0.7777777777777778,
              "#fb9f3a"
             ],
             [
              0.8888888888888888,
              "#fdca26"
             ],
             [
              1,
              "#f0f921"
             ]
            ],
            "type": "histogram2d"
           }
          ],
          "histogram2dcontour": [
           {
            "colorbar": {
             "outlinewidth": 0,
             "ticks": ""
            },
            "colorscale": [
             [
              0,
              "#0d0887"
             ],
             [
              0.1111111111111111,
              "#46039f"
             ],
             [
              0.2222222222222222,
              "#7201a8"
             ],
             [
              0.3333333333333333,
              "#9c179e"
             ],
             [
              0.4444444444444444,
              "#bd3786"
             ],
             [
              0.5555555555555556,
              "#d8576b"
             ],
             [
              0.6666666666666666,
              "#ed7953"
             ],
             [
              0.7777777777777778,
              "#fb9f3a"
             ],
             [
              0.8888888888888888,
              "#fdca26"
             ],
             [
              1,
              "#f0f921"
             ]
            ],
            "type": "histogram2dcontour"
           }
          ],
          "mesh3d": [
           {
            "colorbar": {
             "outlinewidth": 0,
             "ticks": ""
            },
            "type": "mesh3d"
           }
          ],
          "parcoords": [
           {
            "line": {
             "colorbar": {
              "outlinewidth": 0,
              "ticks": ""
             }
            },
            "type": "parcoords"
           }
          ],
          "pie": [
           {
            "automargin": true,
            "type": "pie"
           }
          ],
          "scatter": [
           {
            "fillpattern": {
             "fillmode": "overlay",
             "size": 10,
             "solidity": 0.2
            },
            "type": "scatter"
           }
          ],
          "scatter3d": [
           {
            "line": {
             "colorbar": {
              "outlinewidth": 0,
              "ticks": ""
             }
            },
            "marker": {
             "colorbar": {
              "outlinewidth": 0,
              "ticks": ""
             }
            },
            "type": "scatter3d"
           }
          ],
          "scattercarpet": [
           {
            "marker": {
             "colorbar": {
              "outlinewidth": 0,
              "ticks": ""
             }
            },
            "type": "scattercarpet"
           }
          ],
          "scattergeo": [
           {
            "marker": {
             "colorbar": {
              "outlinewidth": 0,
              "ticks": ""
             }
            },
            "type": "scattergeo"
           }
          ],
          "scattergl": [
           {
            "marker": {
             "colorbar": {
              "outlinewidth": 0,
              "ticks": ""
             }
            },
            "type": "scattergl"
           }
          ],
          "scattermap": [
           {
            "marker": {
             "colorbar": {
              "outlinewidth": 0,
              "ticks": ""
             }
            },
            "type": "scattermap"
           }
          ],
          "scattermapbox": [
           {
            "marker": {
             "colorbar": {
              "outlinewidth": 0,
              "ticks": ""
             }
            },
            "type": "scattermapbox"
           }
          ],
          "scatterpolar": [
           {
            "marker": {
             "colorbar": {
              "outlinewidth": 0,
              "ticks": ""
             }
            },
            "type": "scatterpolar"
           }
          ],
          "scatterpolargl": [
           {
            "marker": {
             "colorbar": {
              "outlinewidth": 0,
              "ticks": ""
             }
            },
            "type": "scatterpolargl"
           }
          ],
          "scatterternary": [
           {
            "marker": {
             "colorbar": {
              "outlinewidth": 0,
              "ticks": ""
             }
            },
            "type": "scatterternary"
           }
          ],
          "surface": [
           {
            "colorbar": {
             "outlinewidth": 0,
             "ticks": ""
            },
            "colorscale": [
             [
              0,
              "#0d0887"
             ],
             [
              0.1111111111111111,
              "#46039f"
             ],
             [
              0.2222222222222222,
              "#7201a8"
             ],
             [
              0.3333333333333333,
              "#9c179e"
             ],
             [
              0.4444444444444444,
              "#bd3786"
             ],
             [
              0.5555555555555556,
              "#d8576b"
             ],
             [
              0.6666666666666666,
              "#ed7953"
             ],
             [
              0.7777777777777778,
              "#fb9f3a"
             ],
             [
              0.8888888888888888,
              "#fdca26"
             ],
             [
              1,
              "#f0f921"
             ]
            ],
            "type": "surface"
           }
          ],
          "table": [
           {
            "cells": {
             "fill": {
              "color": "#EBF0F8"
             },
             "line": {
              "color": "white"
             }
            },
            "header": {
             "fill": {
              "color": "#C8D4E3"
             },
             "line": {
              "color": "white"
             }
            },
            "type": "table"
           }
          ]
         },
         "layout": {
          "annotationdefaults": {
           "arrowcolor": "#2a3f5f",
           "arrowhead": 0,
           "arrowwidth": 1
          },
          "autotypenumbers": "strict",
          "coloraxis": {
           "colorbar": {
            "outlinewidth": 0,
            "ticks": ""
           }
          },
          "colorscale": {
           "diverging": [
            [
             0,
             "#8e0152"
            ],
            [
             0.1,
             "#c51b7d"
            ],
            [
             0.2,
             "#de77ae"
            ],
            [
             0.3,
             "#f1b6da"
            ],
            [
             0.4,
             "#fde0ef"
            ],
            [
             0.5,
             "#f7f7f7"
            ],
            [
             0.6,
             "#e6f5d0"
            ],
            [
             0.7,
             "#b8e186"
            ],
            [
             0.8,
             "#7fbc41"
            ],
            [
             0.9,
             "#4d9221"
            ],
            [
             1,
             "#276419"
            ]
           ],
           "sequential": [
            [
             0,
             "#0d0887"
            ],
            [
             0.1111111111111111,
             "#46039f"
            ],
            [
             0.2222222222222222,
             "#7201a8"
            ],
            [
             0.3333333333333333,
             "#9c179e"
            ],
            [
             0.4444444444444444,
             "#bd3786"
            ],
            [
             0.5555555555555556,
             "#d8576b"
            ],
            [
             0.6666666666666666,
             "#ed7953"
            ],
            [
             0.7777777777777778,
             "#fb9f3a"
            ],
            [
             0.8888888888888888,
             "#fdca26"
            ],
            [
             1,
             "#f0f921"
            ]
           ],
           "sequentialminus": [
            [
             0,
             "#0d0887"
            ],
            [
             0.1111111111111111,
             "#46039f"
            ],
            [
             0.2222222222222222,
             "#7201a8"
            ],
            [
             0.3333333333333333,
             "#9c179e"
            ],
            [
             0.4444444444444444,
             "#bd3786"
            ],
            [
             0.5555555555555556,
             "#d8576b"
            ],
            [
             0.6666666666666666,
             "#ed7953"
            ],
            [
             0.7777777777777778,
             "#fb9f3a"
            ],
            [
             0.8888888888888888,
             "#fdca26"
            ],
            [
             1,
             "#f0f921"
            ]
           ]
          },
          "colorway": [
           "#636efa",
           "#EF553B",
           "#00cc96",
           "#ab63fa",
           "#FFA15A",
           "#19d3f3",
           "#FF6692",
           "#B6E880",
           "#FF97FF",
           "#FECB52"
          ],
          "font": {
           "color": "#2a3f5f"
          },
          "geo": {
           "bgcolor": "white",
           "lakecolor": "white",
           "landcolor": "#E5ECF6",
           "showlakes": true,
           "showland": true,
           "subunitcolor": "white"
          },
          "hoverlabel": {
           "align": "left"
          },
          "hovermode": "closest",
          "mapbox": {
           "style": "light"
          },
          "paper_bgcolor": "white",
          "plot_bgcolor": "#E5ECF6",
          "polar": {
           "angularaxis": {
            "gridcolor": "white",
            "linecolor": "white",
            "ticks": ""
           },
           "bgcolor": "#E5ECF6",
           "radialaxis": {
            "gridcolor": "white",
            "linecolor": "white",
            "ticks": ""
           }
          },
          "scene": {
           "xaxis": {
            "backgroundcolor": "#E5ECF6",
            "gridcolor": "white",
            "gridwidth": 2,
            "linecolor": "white",
            "showbackground": true,
            "ticks": "",
            "zerolinecolor": "white"
           },
           "yaxis": {
            "backgroundcolor": "#E5ECF6",
            "gridcolor": "white",
            "gridwidth": 2,
            "linecolor": "white",
            "showbackground": true,
            "ticks": "",
            "zerolinecolor": "white"
           },
           "zaxis": {
            "backgroundcolor": "#E5ECF6",
            "gridcolor": "white",
            "gridwidth": 2,
            "linecolor": "white",
            "showbackground": true,
            "ticks": "",
            "zerolinecolor": "white"
           }
          },
          "shapedefaults": {
           "line": {
            "color": "#2a3f5f"
           }
          },
          "ternary": {
           "aaxis": {
            "gridcolor": "white",
            "linecolor": "white",
            "ticks": ""
           },
           "baxis": {
            "gridcolor": "white",
            "linecolor": "white",
            "ticks": ""
           },
           "bgcolor": "#E5ECF6",
           "caxis": {
            "gridcolor": "white",
            "linecolor": "white",
            "ticks": ""
           }
          },
          "title": {
           "x": 0.05
          },
          "xaxis": {
           "automargin": true,
           "gridcolor": "white",
           "linecolor": "white",
           "ticks": "",
           "title": {
            "standoff": 15
           },
           "zerolinecolor": "white",
           "zerolinewidth": 2
          },
          "yaxis": {
           "automargin": true,
           "gridcolor": "white",
           "linecolor": "white",
           "ticks": "",
           "title": {
            "standoff": 15
           },
           "zerolinecolor": "white",
           "zerolinewidth": 2
          }
         }
        },
        "title": {
         "text": "Top 15 Important Features (Random Forest)"
        },
        "width": 900,
        "xaxis": {
         "anchor": "y",
         "domain": [
          0,
          1
         ],
         "title": {
          "text": "Importance"
         }
        },
        "yaxis": {
         "anchor": "x",
         "domain": [
          0,
          1
         ],
         "title": {
          "text": "Feature"
         }
        }
       }
      }
     },
     "metadata": {},
     "output_type": "display_data"
    },
    {
     "name": "stdout",
     "output_type": "stream",
     "text": [
      "✓ Created feature importance visualization\n"
     ]
    }
   ],
   "source": [
    "# 特征重要性 (默认feature_importance)\n",
    "feature_importance = pd.DataFrame({\n",
    "    'Feature': X.columns,\n",
    "    'Importance': rf.feature_importances_\n",
    "}).sort_values('Importance', ascending=False)\n",
    "\n",
    "top_features = feature_importance.head(15)\n",
    "\n",
    "fig = px.bar(\n",
    "    top_features,\n",
    "    x='Importance',\n",
    "    y='Feature',\n",
    "    orientation='h',\n",
    "    title='Top 15 Important Features (Random Forest)',\n",
    "    labels={'Importance': 'Importance', 'Feature': 'Feature'},\n",
    "    color='Importance',\n",
    "    color_continuous_scale='Viridis'\n",
    ")\n",
    "fig.update_layout(height=600, width=900)\n",
    "fig.write_html('rf_reports/figures/feature_importance.html')\n",
    "fig.show()\n",
    "print(\"✓ Created feature importance visualization\")"
   ]
  },
  {
   "cell_type": "code",
   "execution_count": 4,
   "id": "a0094408",
   "metadata": {},
   "outputs": [
    {
     "data": {
      "application/vnd.plotly.v1+json": {
       "config": {
        "plotlyServerURL": "https://plot.ly"
       },
       "data": [
        {
         "hovertemplate": "Actual tmax=%{x}<br>Predicted tmax=%{y}<extra></extra>",
         "legendgroup": "",
         "marker": {
          "color": "#636efa",
          "symbol": "circle"
         },
         "mode": "markers",
         "name": "",
         "orientation": "v",
         "showlegend": false,
         "type": "scatter",
         "x": {
          "bdata": "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",
          "dtype": "f8"
         },
         "xaxis": "x",
         "y": {
          "bdata": "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",
          "dtype": "f8"
         },
         "yaxis": "y"
        },
        {
         "line": {
          "color": "red",
          "dash": "dash"
         },
         "mode": "lines",
         "showlegend": false,
         "type": "scatter",
         "x": [
          34.7,
          49.28
         ],
         "y": [
          34.7,
          49.28
         ]
        }
       ],
       "layout": {
        "legend": {
         "tracegroupgap": 0
        },
        "template": {
         "data": {
          "bar": [
           {
            "error_x": {
             "color": "#2a3f5f"
            },
            "error_y": {
             "color": "#2a3f5f"
            },
            "marker": {
             "line": {
              "color": "#E5ECF6",
              "width": 0.5
             },
             "pattern": {
              "fillmode": "overlay",
              "size": 10,
              "solidity": 0.2
             }
            },
            "type": "bar"
           }
          ],
          "barpolar": [
           {
            "marker": {
             "line": {
              "color": "#E5ECF6",
              "width": 0.5
             },
             "pattern": {
              "fillmode": "overlay",
              "size": 10,
              "solidity": 0.2
             }
            },
            "type": "barpolar"
           }
          ],
          "carpet": [
           {
            "aaxis": {
             "endlinecolor": "#2a3f5f",
             "gridcolor": "white",
             "linecolor": "white",
             "minorgridcolor": "white",
             "startlinecolor": "#2a3f5f"
            },
            "baxis": {
             "endlinecolor": "#2a3f5f",
             "gridcolor": "white",
             "linecolor": "white",
             "minorgridcolor": "white",
             "startlinecolor": "#2a3f5f"
            },
            "type": "carpet"
           }
          ],
          "choropleth": [
           {
            "colorbar": {
             "outlinewidth": 0,
             "ticks": ""
            },
            "type": "choropleth"
           }
          ],
          "contour": [
           {
            "colorbar": {
             "outlinewidth": 0,
             "ticks": ""
            },
            "colorscale": [
             [
              0,
              "#0d0887"
             ],
             [
              0.1111111111111111,
              "#46039f"
             ],
             [
              0.2222222222222222,
              "#7201a8"
             ],
             [
              0.3333333333333333,
              "#9c179e"
             ],
             [
              0.4444444444444444,
              "#bd3786"
             ],
             [
              0.5555555555555556,
              "#d8576b"
             ],
             [
              0.6666666666666666,
              "#ed7953"
             ],
             [
              0.7777777777777778,
              "#fb9f3a"
             ],
             [
              0.8888888888888888,
              "#fdca26"
             ],
             [
              1,
              "#f0f921"
             ]
            ],
            "type": "contour"
           }
          ],
          "contourcarpet": [
           {
            "colorbar": {
             "outlinewidth": 0,
             "ticks": ""
            },
            "type": "contourcarpet"
           }
          ],
          "heatmap": [
           {
            "colorbar": {
             "outlinewidth": 0,
             "ticks": ""
            },
            "colorscale": [
             [
              0,
              "#0d0887"
             ],
             [
              0.1111111111111111,
              "#46039f"
             ],
             [
              0.2222222222222222,
              "#7201a8"
             ],
             [
              0.3333333333333333,
              "#9c179e"
             ],
             [
              0.4444444444444444,
              "#bd3786"
             ],
             [
              0.5555555555555556,
              "#d8576b"
             ],
             [
              0.6666666666666666,
              "#ed7953"
             ],
             [
              0.7777777777777778,
              "#fb9f3a"
             ],
             [
              0.8888888888888888,
              "#fdca26"
             ],
             [
              1,
              "#f0f921"
             ]
            ],
            "type": "heatmap"
           }
          ],
          "histogram": [
           {
            "marker": {
             "pattern": {
              "fillmode": "overlay",
              "size": 10,
              "solidity": 0.2
             }
            },
            "type": "histogram"
           }
          ],
          "histogram2d": [
           {
            "colorbar": {
             "outlinewidth": 0,
             "ticks": ""
            },
            "colorscale": [
             [
              0,
              "#0d0887"
             ],
             [
              0.1111111111111111,
              "#46039f"
             ],
             [
              0.2222222222222222,
              "#7201a8"
             ],
             [
              0.3333333333333333,
              "#9c179e"
             ],
             [
              0.4444444444444444,
              "#bd3786"
             ],
             [
              0.5555555555555556,
              "#d8576b"
             ],
             [
              0.6666666666666666,
              "#ed7953"
             ],
             [
              0.7777777777777778,
              "#fb9f3a"
             ],
             [
              0.8888888888888888,
              "#fdca26"
             ],
             [
              1,
              "#f0f921"
             ]
            ],
            "type": "histogram2d"
           }
          ],
          "histogram2dcontour": [
           {
            "colorbar": {
             "outlinewidth": 0,
             "ticks": ""
            },
            "colorscale": [
             [
              0,
              "#0d0887"
             ],
             [
              0.1111111111111111,
              "#46039f"
             ],
             [
              0.2222222222222222,
              "#7201a8"
             ],
             [
              0.3333333333333333,
              "#9c179e"
             ],
             [
              0.4444444444444444,
              "#bd3786"
             ],
             [
              0.5555555555555556,
              "#d8576b"
             ],
             [
              0.6666666666666666,
              "#ed7953"
             ],
             [
              0.7777777777777778,
              "#fb9f3a"
             ],
             [
              0.8888888888888888,
              "#fdca26"
             ],
             [
              1,
              "#f0f921"
             ]
            ],
            "type": "histogram2dcontour"
           }
          ],
          "mesh3d": [
           {
            "colorbar": {
             "outlinewidth": 0,
             "ticks": ""
            },
            "type": "mesh3d"
           }
          ],
          "parcoords": [
           {
            "line": {
             "colorbar": {
              "outlinewidth": 0,
              "ticks": ""
             }
            },
            "type": "parcoords"
           }
          ],
          "pie": [
           {
            "automargin": true,
            "type": "pie"
           }
          ],
          "scatter": [
           {
            "fillpattern": {
             "fillmode": "overlay",
             "size": 10,
             "solidity": 0.2
            },
            "type": "scatter"
           }
          ],
          "scatter3d": [
           {
            "line": {
             "colorbar": {
              "outlinewidth": 0,
              "ticks": ""
             }
            },
            "marker": {
             "colorbar": {
              "outlinewidth": 0,
              "ticks": ""
             }
            },
            "type": "scatter3d"
           }
          ],
          "scattercarpet": [
           {
            "marker": {
             "colorbar": {
              "outlinewidth": 0,
              "ticks": ""
             }
            },
            "type": "scattercarpet"
           }
          ],
          "scattergeo": [
           {
            "marker": {
             "colorbar": {
              "outlinewidth": 0,
              "ticks": ""
             }
            },
            "type": "scattergeo"
           }
          ],
          "scattergl": [
           {
            "marker": {
             "colorbar": {
              "outlinewidth": 0,
              "ticks": ""
             }
            },
            "type": "scattergl"
           }
          ],
          "scattermap": [
           {
            "marker": {
             "colorbar": {
              "outlinewidth": 0,
              "ticks": ""
             }
            },
            "type": "scattermap"
           }
          ],
          "scattermapbox": [
           {
            "marker": {
             "colorbar": {
              "outlinewidth": 0,
              "ticks": ""
             }
            },
            "type": "scattermapbox"
           }
          ],
          "scatterpolar": [
           {
            "marker": {
             "colorbar": {
              "outlinewidth": 0,
              "ticks": ""
             }
            },
            "type": "scatterpolar"
           }
          ],
          "scatterpolargl": [
           {
            "marker": {
             "colorbar": {
              "outlinewidth": 0,
              "ticks": ""
             }
            },
            "type": "scatterpolargl"
           }
          ],
          "scatterternary": [
           {
            "marker": {
             "colorbar": {
              "outlinewidth": 0,
              "ticks": ""
             }
            },
            "type": "scatterternary"
           }
          ],
          "surface": [
           {
            "colorbar": {
             "outlinewidth": 0,
             "ticks": ""
            },
            "colorscale": [
             [
              0,
              "#0d0887"
             ],
             [
              0.1111111111111111,
              "#46039f"
             ],
             [
              0.2222222222222222,
              "#7201a8"
             ],
             [
              0.3333333333333333,
              "#9c179e"
             ],
             [
              0.4444444444444444,
              "#bd3786"
             ],
             [
              0.5555555555555556,
              "#d8576b"
             ],
             [
              0.6666666666666666,
              "#ed7953"
             ],
             [
              0.7777777777777778,
              "#fb9f3a"
             ],
             [
              0.8888888888888888,
              "#fdca26"
             ],
             [
              1,
              "#f0f921"
             ]
            ],
            "type": "surface"
           }
          ],
          "table": [
           {
            "cells": {
             "fill": {
              "color": "#EBF0F8"
             },
             "line": {
              "color": "white"
             }
            },
            "header": {
             "fill": {
              "color": "#C8D4E3"
             },
             "line": {
              "color": "white"
             }
            },
            "type": "table"
           }
          ]
         },
         "layout": {
          "annotationdefaults": {
           "arrowcolor": "#2a3f5f",
           "arrowhead": 0,
           "arrowwidth": 1
          },
          "autotypenumbers": "strict",
          "coloraxis": {
           "colorbar": {
            "outlinewidth": 0,
            "ticks": ""
           }
          },
          "colorscale": {
           "diverging": [
            [
             0,
             "#8e0152"
            ],
            [
             0.1,
             "#c51b7d"
            ],
            [
             0.2,
             "#de77ae"
            ],
            [
             0.3,
             "#f1b6da"
            ],
            [
             0.4,
             "#fde0ef"
            ],
            [
             0.5,
             "#f7f7f7"
            ],
            [
             0.6,
             "#e6f5d0"
            ],
            [
             0.7,
             "#b8e186"
            ],
            [
             0.8,
             "#7fbc41"
            ],
            [
             0.9,
             "#4d9221"
            ],
            [
             1,
             "#276419"
            ]
           ],
           "sequential": [
            [
             0,
             "#0d0887"
            ],
            [
             0.1111111111111111,
             "#46039f"
            ],
            [
             0.2222222222222222,
             "#7201a8"
            ],
            [
             0.3333333333333333,
             "#9c179e"
            ],
            [
             0.4444444444444444,
             "#bd3786"
            ],
            [
             0.5555555555555556,
             "#d8576b"
            ],
            [
             0.6666666666666666,
             "#ed7953"
            ],
            [
             0.7777777777777778,
             "#fb9f3a"
            ],
            [
             0.8888888888888888,
             "#fdca26"
            ],
            [
             1,
             "#f0f921"
            ]
           ],
           "sequentialminus": [
            [
             0,
             "#0d0887"
            ],
            [
             0.1111111111111111,
             "#46039f"
            ],
            [
             0.2222222222222222,
             "#7201a8"
            ],
            [
             0.3333333333333333,
             "#9c179e"
            ],
            [
             0.4444444444444444,
             "#bd3786"
            ],
            [
             0.5555555555555556,
             "#d8576b"
            ],
            [
             0.6666666666666666,
             "#ed7953"
            ],
            [
             0.7777777777777778,
             "#fb9f3a"
            ],
            [
             0.8888888888888888,
             "#fdca26"
            ],
            [
             1,
             "#f0f921"
            ]
           ]
          },
          "colorway": [
           "#636efa",
           "#EF553B",
           "#00cc96",
           "#ab63fa",
           "#FFA15A",
           "#19d3f3",
           "#FF6692",
           "#B6E880",
           "#FF97FF",
           "#FECB52"
          ],
          "font": {
           "color": "#2a3f5f"
          },
          "geo": {
           "bgcolor": "white",
           "lakecolor": "white",
           "landcolor": "#E5ECF6",
           "showlakes": true,
           "showland": true,
           "subunitcolor": "white"
          },
          "hoverlabel": {
           "align": "left"
          },
          "hovermode": "closest",
          "mapbox": {
           "style": "light"
          },
          "paper_bgcolor": "white",
          "plot_bgcolor": "#E5ECF6",
          "polar": {
           "angularaxis": {
            "gridcolor": "white",
            "linecolor": "white",
            "ticks": ""
           },
           "bgcolor": "#E5ECF6",
           "radialaxis": {
            "gridcolor": "white",
            "linecolor": "white",
            "ticks": ""
           }
          },
          "scene": {
           "xaxis": {
            "backgroundcolor": "#E5ECF6",
            "gridcolor": "white",
            "gridwidth": 2,
            "linecolor": "white",
            "showbackground": true,
            "ticks": "",
            "zerolinecolor": "white"
           },
           "yaxis": {
            "backgroundcolor": "#E5ECF6",
            "gridcolor": "white",
            "gridwidth": 2,
            "linecolor": "white",
            "showbackground": true,
            "ticks": "",
            "zerolinecolor": "white"
           },
           "zaxis": {
            "backgroundcolor": "#E5ECF6",
            "gridcolor": "white",
            "gridwidth": 2,
            "linecolor": "white",
            "showbackground": true,
            "ticks": "",
            "zerolinecolor": "white"
           }
          },
          "shapedefaults": {
           "line": {
            "color": "#2a3f5f"
           }
          },
          "ternary": {
           "aaxis": {
            "gridcolor": "white",
            "linecolor": "white",
            "ticks": ""
           },
           "baxis": {
            "gridcolor": "white",
            "linecolor": "white",
            "ticks": ""
           },
           "bgcolor": "#E5ECF6",
           "caxis": {
            "gridcolor": "white",
            "linecolor": "white",
            "ticks": ""
           }
          },
          "title": {
           "x": 0.05
          },
          "xaxis": {
           "automargin": true,
           "gridcolor": "white",
           "linecolor": "white",
           "ticks": "",
           "title": {
            "standoff": 15
           },
           "zerolinecolor": "white",
           "zerolinewidth": 2
          },
          "yaxis": {
           "automargin": true,
           "gridcolor": "white",
           "linecolor": "white",
           "ticks": "",
           "title": {
            "standoff": 15
           },
           "zerolinecolor": "white",
           "zerolinewidth": 2
          }
         }
        },
        "title": {
         "text": "Actual vs Predicted (Random Forest)"
        },
        "xaxis": {
         "anchor": "y",
         "domain": [
          0,
          1
         ],
         "title": {
          "text": "Actual tmax"
         }
        },
        "yaxis": {
         "anchor": "x",
         "domain": [
          0,
          1
         ],
         "title": {
          "text": "Predicted tmax"
         }
        }
       }
      }
     },
     "metadata": {},
     "output_type": "display_data"
    },
    {
     "name": "stdout",
     "output_type": "stream",
     "text": [
      "✓ Created actual vs predicted visualization\n"
     ]
    }
   ],
   "source": [
    "# Actual vs Predicted\n",
    "fig = px.scatter(\n",
    "    x=y_test,\n",
    "    y=y_pred,\n",
    "    title='Actual vs Predicted (Random Forest)',\n",
    "    labels={'x': 'Actual tmax', 'y': 'Predicted tmax'}\n",
    ")\n",
    "\n",
    "min_val = min(y_test.min(), y_pred.min())\n",
    "max_val = max(y_test.max(), y_pred.max())\n",
    "\n",
    "fig.add_trace(go.Scatter(\n",
    "    x=[min_val, max_val],\n",
    "    y=[min_val, max_val],\n",
    "    mode='lines',\n",
    "    line=dict(color='red', dash='dash'),\n",
    "    showlegend=False\n",
    "))\n",
    "\n",
    "fig.write_html('rf_reports/figures/actual_vs_predicted.html')\n",
    "fig.show()\n",
    "print(\"✓ Created actual vs predicted visualization\")"
   ]
  },
  {
   "cell_type": "code",
   "execution_count": 13,
   "id": "786bd647",
   "metadata": {},
   "outputs": [
    {
     "data": {
      "application/vnd.plotly.v1+json": {
       "config": {
        "plotlyServerURL": "https://plot.ly"
       },
       "data": [
        {
         "hovertemplate": "Predicted=%{x}<br>Residuals=%{y}<extra></extra>",
         "legendgroup": "",
         "marker": {
          "color": "#636efa",
          "symbol": "circle"
         },
         "mode": "markers",
         "name": "",
         "orientation": "v",
         "showlegend": false,
         "type": "scatter",
         "x": {
          "bdata": "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",
          "dtype": "f8"
         },
         "xaxis": "x",
         "y": {
          "bdata": "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",
          "dtype": "f8"
         },
         "yaxis": "y"
        }
       ],
       "layout": {
        "legend": {
         "tracegroupgap": 0
        },
        "shapes": [
         {
          "line": {
           "color": "red",
           "dash": "dash"
          },
          "type": "line",
          "x0": 0,
          "x1": 1,
          "xref": "x domain",
          "y0": 0,
          "y1": 0,
          "yref": "y"
         }
        ],
        "template": {
         "data": {
          "bar": [
           {
            "error_x": {
             "color": "#2a3f5f"
            },
            "error_y": {
             "color": "#2a3f5f"
            },
            "marker": {
             "line": {
              "color": "#E5ECF6",
              "width": 0.5
             },
             "pattern": {
              "fillmode": "overlay",
              "size": 10,
              "solidity": 0.2
             }
            },
            "type": "bar"
           }
          ],
          "barpolar": [
           {
            "marker": {
             "line": {
              "color": "#E5ECF6",
              "width": 0.5
             },
             "pattern": {
              "fillmode": "overlay",
              "size": 10,
              "solidity": 0.2
             }
            },
            "type": "barpolar"
           }
          ],
          "carpet": [
           {
            "aaxis": {
             "endlinecolor": "#2a3f5f",
             "gridcolor": "white",
             "linecolor": "white",
             "minorgridcolor": "white",
             "startlinecolor": "#2a3f5f"
            },
            "baxis": {
             "endlinecolor": "#2a3f5f",
             "gridcolor": "white",
             "linecolor": "white",
             "minorgridcolor": "white",
             "startlinecolor": "#2a3f5f"
            },
            "type": "carpet"
           }
          ],
          "choropleth": [
           {
            "colorbar": {
             "outlinewidth": 0,
             "ticks": ""
            },
            "type": "choropleth"
           }
          ],
          "contour": [
           {
            "colorbar": {
             "outlinewidth": 0,
             "ticks": ""
            },
            "colorscale": [
             [
              0,
              "#0d0887"
             ],
             [
              0.1111111111111111,
              "#46039f"
             ],
             [
              0.2222222222222222,
              "#7201a8"
             ],
             [
              0.3333333333333333,
              "#9c179e"
             ],
             [
              0.4444444444444444,
              "#bd3786"
             ],
             [
              0.5555555555555556,
              "#d8576b"
             ],
             [
              0.6666666666666666,
              "#ed7953"
             ],
             [
              0.7777777777777778,
              "#fb9f3a"
             ],
             [
              0.8888888888888888,
              "#fdca26"
             ],
             [
              1,
              "#f0f921"
             ]
            ],
            "type": "contour"
           }
          ],
          "contourcarpet": [
           {
            "colorbar": {
             "outlinewidth": 0,
             "ticks": ""
            },
            "type": "contourcarpet"
           }
          ],
          "heatmap": [
           {
            "colorbar": {
             "outlinewidth": 0,
             "ticks": ""
            },
            "colorscale": [
             [
              0,
              "#0d0887"
             ],
             [
              0.1111111111111111,
              "#46039f"
             ],
             [
              0.2222222222222222,
              "#7201a8"
             ],
             [
              0.3333333333333333,
              "#9c179e"
             ],
             [
              0.4444444444444444,
              "#bd3786"
             ],
             [
              0.5555555555555556,
              "#d8576b"
             ],
             [
              0.6666666666666666,
              "#ed7953"
             ],
             [
              0.7777777777777778,
              "#fb9f3a"
             ],
             [
              0.8888888888888888,
              "#fdca26"
             ],
             [
              1,
              "#f0f921"
             ]
            ],
            "type": "heatmap"
           }
          ],
          "histogram": [
           {
            "marker": {
             "pattern": {
              "fillmode": "overlay",
              "size": 10,
              "solidity": 0.2
             }
            },
            "type": "histogram"
           }
          ],
          "histogram2d": [
           {
            "colorbar": {
             "outlinewidth": 0,
             "ticks": ""
            },
            "colorscale": [
             [
              0,
              "#0d0887"
             ],
             [
              0.1111111111111111,
              "#46039f"
             ],
             [
              0.2222222222222222,
              "#7201a8"
             ],
             [
              0.3333333333333333,
              "#9c179e"
             ],
             [
              0.4444444444444444,
              "#bd3786"
             ],
             [
              0.5555555555555556,
              "#d8576b"
             ],
             [
              0.6666666666666666,
              "#ed7953"
             ],
             [
              0.7777777777777778,
              "#fb9f3a"
             ],
             [
              0.8888888888888888,
              "#fdca26"
             ],
             [
              1,
              "#f0f921"
             ]
            ],
            "type": "histogram2d"
           }
          ],
          "histogram2dcontour": [
           {
            "colorbar": {
             "outlinewidth": 0,
             "ticks": ""
            },
            "colorscale": [
             [
              0,
              "#0d0887"
             ],
             [
              0.1111111111111111,
              "#46039f"
             ],
             [
              0.2222222222222222,
              "#7201a8"
             ],
             [
              0.3333333333333333,
              "#9c179e"
             ],
             [
              0.4444444444444444,
              "#bd3786"
             ],
             [
              0.5555555555555556,
              "#d8576b"
             ],
             [
              0.6666666666666666,
              "#ed7953"
             ],
             [
              0.7777777777777778,
              "#fb9f3a"
             ],
             [
              0.8888888888888888,
              "#fdca26"
             ],
             [
              1,
              "#f0f921"
             ]
            ],
            "type": "histogram2dcontour"
           }
          ],
          "mesh3d": [
           {
            "colorbar": {
             "outlinewidth": 0,
             "ticks": ""
            },
            "type": "mesh3d"
           }
          ],
          "parcoords": [
           {
            "line": {
             "colorbar": {
              "outlinewidth": 0,
              "ticks": ""
             }
            },
            "type": "parcoords"
           }
          ],
          "pie": [
           {
            "automargin": true,
            "type": "pie"
           }
          ],
          "scatter": [
           {
            "fillpattern": {
             "fillmode": "overlay",
             "size": 10,
             "solidity": 0.2
            },
            "type": "scatter"
           }
          ],
          "scatter3d": [
           {
            "line": {
             "colorbar": {
              "outlinewidth": 0,
              "ticks": ""
             }
            },
            "marker": {
             "colorbar": {
              "outlinewidth": 0,
              "ticks": ""
             }
            },
            "type": "scatter3d"
           }
          ],
          "scattercarpet": [
           {
            "marker": {
             "colorbar": {
              "outlinewidth": 0,
              "ticks": ""
             }
            },
            "type": "scattercarpet"
           }
          ],
          "scattergeo": [
           {
            "marker": {
             "colorbar": {
              "outlinewidth": 0,
              "ticks": ""
             }
            },
            "type": "scattergeo"
           }
          ],
          "scattergl": [
           {
            "marker": {
             "colorbar": {
              "outlinewidth": 0,
              "ticks": ""
             }
            },
            "type": "scattergl"
           }
          ],
          "scattermap": [
           {
            "marker": {
             "colorbar": {
              "outlinewidth": 0,
              "ticks": ""
             }
            },
            "type": "scattermap"
           }
          ],
          "scattermapbox": [
           {
            "marker": {
             "colorbar": {
              "outlinewidth": 0,
              "ticks": ""
             }
            },
            "type": "scattermapbox"
           }
          ],
          "scatterpolar": [
           {
            "marker": {
             "colorbar": {
              "outlinewidth": 0,
              "ticks": ""
             }
            },
            "type": "scatterpolar"
           }
          ],
          "scatterpolargl": [
           {
            "marker": {
             "colorbar": {
              "outlinewidth": 0,
              "ticks": ""
             }
            },
            "type": "scatterpolargl"
           }
          ],
          "scatterternary": [
           {
            "marker": {
             "colorbar": {
              "outlinewidth": 0,
              "ticks": ""
             }
            },
            "type": "scatterternary"
           }
          ],
          "surface": [
           {
            "colorbar": {
             "outlinewidth": 0,
             "ticks": ""
            },
            "colorscale": [
             [
              0,
              "#0d0887"
             ],
             [
              0.1111111111111111,
              "#46039f"
             ],
             [
              0.2222222222222222,
              "#7201a8"
             ],
             [
              0.3333333333333333,
              "#9c179e"
             ],
             [
              0.4444444444444444,
              "#bd3786"
             ],
             [
              0.5555555555555556,
              "#d8576b"
             ],
             [
              0.6666666666666666,
              "#ed7953"
             ],
             [
              0.7777777777777778,
              "#fb9f3a"
             ],
             [
              0.8888888888888888,
              "#fdca26"
             ],
             [
              1,
              "#f0f921"
             ]
            ],
            "type": "surface"
           }
          ],
          "table": [
           {
            "cells": {
             "fill": {
              "color": "#EBF0F8"
             },
             "line": {
              "color": "white"
             }
            },
            "header": {
             "fill": {
              "color": "#C8D4E3"
             },
             "line": {
              "color": "white"
             }
            },
            "type": "table"
           }
          ]
         },
         "layout": {
          "annotationdefaults": {
           "arrowcolor": "#2a3f5f",
           "arrowhead": 0,
           "arrowwidth": 1
          },
          "autotypenumbers": "strict",
          "coloraxis": {
           "colorbar": {
            "outlinewidth": 0,
            "ticks": ""
           }
          },
          "colorscale": {
           "diverging": [
            [
             0,
             "#8e0152"
            ],
            [
             0.1,
             "#c51b7d"
            ],
            [
             0.2,
             "#de77ae"
            ],
            [
             0.3,
             "#f1b6da"
            ],
            [
             0.4,
             "#fde0ef"
            ],
            [
             0.5,
             "#f7f7f7"
            ],
            [
             0.6,
             "#e6f5d0"
            ],
            [
             0.7,
             "#b8e186"
            ],
            [
             0.8,
             "#7fbc41"
            ],
            [
             0.9,
             "#4d9221"
            ],
            [
             1,
             "#276419"
            ]
           ],
           "sequential": [
            [
             0,
             "#0d0887"
            ],
            [
             0.1111111111111111,
             "#46039f"
            ],
            [
             0.2222222222222222,
             "#7201a8"
            ],
            [
             0.3333333333333333,
             "#9c179e"
            ],
            [
             0.4444444444444444,
             "#bd3786"
            ],
            [
             0.5555555555555556,
             "#d8576b"
            ],
            [
             0.6666666666666666,
             "#ed7953"
            ],
            [
             0.7777777777777778,
             "#fb9f3a"
            ],
            [
             0.8888888888888888,
             "#fdca26"
            ],
            [
             1,
             "#f0f921"
            ]
           ],
           "sequentialminus": [
            [
             0,
             "#0d0887"
            ],
            [
             0.1111111111111111,
             "#46039f"
            ],
            [
             0.2222222222222222,
             "#7201a8"
            ],
            [
             0.3333333333333333,
             "#9c179e"
            ],
            [
             0.4444444444444444,
             "#bd3786"
            ],
            [
             0.5555555555555556,
             "#d8576b"
            ],
            [
             0.6666666666666666,
             "#ed7953"
            ],
            [
             0.7777777777777778,
             "#fb9f3a"
            ],
            [
             0.8888888888888888,
             "#fdca26"
            ],
            [
             1,
             "#f0f921"
            ]
           ]
          },
          "colorway": [
           "#636efa",
           "#EF553B",
           "#00cc96",
           "#ab63fa",
           "#FFA15A",
           "#19d3f3",
           "#FF6692",
           "#B6E880",
           "#FF97FF",
           "#FECB52"
          ],
          "font": {
           "color": "#2a3f5f"
          },
          "geo": {
           "bgcolor": "white",
           "lakecolor": "white",
           "landcolor": "#E5ECF6",
           "showlakes": true,
           "showland": true,
           "subunitcolor": "white"
          },
          "hoverlabel": {
           "align": "left"
          },
          "hovermode": "closest",
          "mapbox": {
           "style": "light"
          },
          "paper_bgcolor": "white",
          "plot_bgcolor": "#E5ECF6",
          "polar": {
           "angularaxis": {
            "gridcolor": "white",
            "linecolor": "white",
            "ticks": ""
           },
           "bgcolor": "#E5ECF6",
           "radialaxis": {
            "gridcolor": "white",
            "linecolor": "white",
            "ticks": ""
           }
          },
          "scene": {
           "xaxis": {
            "backgroundcolor": "#E5ECF6",
            "gridcolor": "white",
            "gridwidth": 2,
            "linecolor": "white",
            "showbackground": true,
            "ticks": "",
            "zerolinecolor": "white"
           },
           "yaxis": {
            "backgroundcolor": "#E5ECF6",
            "gridcolor": "white",
            "gridwidth": 2,
            "linecolor": "white",
            "showbackground": true,
            "ticks": "",
            "zerolinecolor": "white"
           },
           "zaxis": {
            "backgroundcolor": "#E5ECF6",
            "gridcolor": "white",
            "gridwidth": 2,
            "linecolor": "white",
            "showbackground": true,
            "ticks": "",
            "zerolinecolor": "white"
           }
          },
          "shapedefaults": {
           "line": {
            "color": "#2a3f5f"
           }
          },
          "ternary": {
           "aaxis": {
            "gridcolor": "white",
            "linecolor": "white",
            "ticks": ""
           },
           "baxis": {
            "gridcolor": "white",
            "linecolor": "white",
            "ticks": ""
           },
           "bgcolor": "#E5ECF6",
           "caxis": {
            "gridcolor": "white",
            "linecolor": "white",
            "ticks": ""
           }
          },
          "title": {
           "x": 0.05
          },
          "xaxis": {
           "automargin": true,
           "gridcolor": "white",
           "linecolor": "white",
           "ticks": "",
           "title": {
            "standoff": 15
           },
           "zerolinecolor": "white",
           "zerolinewidth": 2
          },
          "yaxis": {
           "automargin": true,
           "gridcolor": "white",
           "linecolor": "white",
           "ticks": "",
           "title": {
            "standoff": 15
           },
           "zerolinecolor": "white",
           "zerolinewidth": 2
          }
         }
        },
        "title": {
         "text": "Residual Analysis"
        },
        "xaxis": {
         "anchor": "y",
         "domain": [
          0,
          1
         ],
         "title": {
          "text": "Predicted"
         }
        },
        "yaxis": {
         "anchor": "x",
         "domain": [
          0,
          1
         ],
         "title": {
          "text": "Residuals"
         }
        }
       }
      }
     },
     "metadata": {},
     "output_type": "display_data"
    },
    {
     "name": "stdout",
     "output_type": "stream",
     "text": [
      "✓ Created residual analysis visualization\n"
     ]
    }
   ],
   "source": [
    "# 残差分析\n",
    "residuals = y_test - y_pred\n",
    "fig_residuals = px.scatter(\n",
    "    x=y_pred,\n",
    "    y=residuals,\n",
    "    labels={'x': 'Predicted', 'y': 'Residuals'},\n",
    "    title='Residual Analysis'\n",
    ")\n",
    "fig_residuals.add_hline(y=0, line_dash='dash', line_color='red')\n",
    "fig_residuals.write_html('rf_reports/figures/residual_analysis.html')\n",
    "fig_residuals.show()\n",
    "print(\"✓ Created residual analysis visualization\")"
   ]
  },
  {
   "cell_type": "code",
   "execution_count": 6,
   "id": "65ba3e3d",
   "metadata": {},
   "outputs": [
    {
     "data": {
      "image/png": "[encoded data removed]",
      "text/plain": [
       "<Figure size 800x950 with 1 Axes>"
      ]
     },
     "metadata": {},
     "output_type": "display_data"
    },
    {
     "name": "stdout",
     "output_type": "stream",
     "text": [
      "✓ Created SHAP feature importance plot\n"
     ]
    }
   ],
   "source": [
    "# SHAP解释\n",
    "explainer = shap.TreeExplainer(rf)\n",
    "shap_values = explainer.shap_values(X_test)\n",
    "\n",
    "shap.summary_plot(shap_values, X_test, plot_type=\"bar\", show=False)\n",
    "plt.tight_layout()\n",
    "plt.savefig('rf_reports/figures/shap_feature_importance.png', bbox_inches='tight')\n",
    "plt.show()\n",
    "print(\"✓ Created SHAP feature importance plot\")"
   ]
  },
  {
   "cell_type": "code",
   "execution_count": 7,
   "id": "208d0218",
   "metadata": {},
   "outputs": [
    {
     "name": "stdout",
     "output_type": "stream",
     "text": [
      "Tuning hyperparameters with GridSearchCV...\n",
      "Fitting 5 folds for each of 48 candidates, totalling 240 fits\n",
      "Best Parameters: {'max_depth': 20, 'max_features': 'sqrt', 'min_samples_leaf': 1, 'min_samples_split': 2, 'n_estimators': 200}\n"
     ]
    }
   ],
   "source": [
    "# 2. GridSearchCV 超参数调整\n",
    "print(\"Tuning hyperparameters with GridSearchCV...\")\n",
    "param_grid = {\n",
    "    'n_estimators': [100, 200],\n",
    "    'max_depth': [None, 10, 20],\n",
    "    'min_samples_split': [2, 5],\n",
    "    'min_samples_leaf': [1, 2],\n",
    "    'max_features': ['sqrt', 'log2']\n",
    "}\n",
    "\n",
    "grid_search = GridSearchCV(\n",
    "    RandomForestRegressor(random_state=42),\n",
    "    param_grid,\n",
    "    cv=5,\n",
    "    scoring='r2',\n",
    "    n_jobs=-1,\n",
    "    verbose=1\n",
    ")\n",
    "grid_search.fit(X_train, y_train)\n",
    "print(f\"Best Parameters: {grid_search.best_params_}\")"
   ]
  },
  {
   "cell_type": "code",
   "execution_count": 9,
   "id": "7b25969c",
   "metadata": {},
   "outputs": [
    {
     "name": "stdout",
     "output_type": "stream",
     "text": [
      "Performing K-Fold Cross-Validation...\n"
     ]
    },
    {
     "data": {
      "application/vnd.plotly.v1+json": {
       "config": {
        "plotlyServerURL": "https://plot.ly"
       },
       "data": [
        {
         "hovertemplate": "Fold=%{x}<br>R2 Score=%{y}<extra></extra>",
         "legendgroup": "",
         "marker": {
          "color": "#636efa",
          "pattern": {
           "shape": ""
          }
         },
         "name": "",
         "orientation": "v",
         "showlegend": false,
         "textposition": "auto",
         "type": "bar",
         "x": {
          "bdata": "AQIDBAU=",
          "dtype": "i1"
         },
         "xaxis": "x",
         "y": {
          "bdata": "xofHYtim7D/MbFzWTJfsP/k1SJ9Yruw/N7plq46L7D91b9a4Ij7sPw==",
          "dtype": "f8"
         },
         "yaxis": "y"
        }
       ],
       "layout": {
        "annotations": [
         {
          "showarrow": false,
          "text": "Mean R2: 0.8919",
          "x": 0,
          "xanchor": "left",
          "xref": "x domain",
          "y": 0.8919478642409798,
          "yanchor": "bottom",
          "yref": "y"
         }
        ],
        "barmode": "relative",
        "legend": {
         "tracegroupgap": 0
        },
        "shapes": [
         {
          "line": {
           "color": "red",
           "dash": "solid"
          },
          "type": "line",
          "x0": 0,
          "x1": 1,
          "xref": "x domain",
          "y0": 0.8919478642409798,
          "y1": 0.8919478642409798,
          "yref": "y"
         }
        ],
        "template": {
         "data": {
          "bar": [
           {
            "error_x": {
             "color": "#2a3f5f"
            },
            "error_y": {
             "color": "#2a3f5f"
            },
            "marker": {
             "line": {
              "color": "#E5ECF6",
              "width": 0.5
             },
             "pattern": {
              "fillmode": "overlay",
              "size": 10,
              "solidity": 0.2
             }
            },
            "type": "bar"
           }
          ],
          "barpolar": [
           {
            "marker": {
             "line": {
              "color": "#E5ECF6",
              "width": 0.5
             },
             "pattern": {
              "fillmode": "overlay",
              "size": 10,
              "solidity": 0.2
             }
            },
            "type": "barpolar"
           }
          ],
          "carpet": [
           {
            "aaxis": {
             "endlinecolor": "#2a3f5f",
             "gridcolor": "white",
             "linecolor": "white",
             "minorgridcolor": "white",
             "startlinecolor": "#2a3f5f"
            },
            "baxis": {
             "endlinecolor": "#2a3f5f",
             "gridcolor": "white",
             "linecolor": "white",
             "minorgridcolor": "white",
             "startlinecolor": "#2a3f5f"
            },
            "type": "carpet"
           }
          ],
          "choropleth": [
           {
            "colorbar": {
             "outlinewidth": 0,
             "ticks": ""
            },
            "type": "choropleth"
           }
          ],
          "contour": [
           {
            "colorbar": {
             "outlinewidth": 0,
             "ticks": ""
            },
            "colorscale": [
             [
              0,
              "#0d0887"
             ],
             [
              0.1111111111111111,
              "#46039f"
             ],
             [
              0.2222222222222222,
              "#7201a8"
             ],
             [
              0.3333333333333333,
              "#9c179e"
             ],
             [
              0.4444444444444444,
              "#bd3786"
             ],
             [
              0.5555555555555556,
              "#d8576b"
             ],
             [
              0.6666666666666666,
              "#ed7953"
             ],
             [
              0.7777777777777778,
              "#fb9f3a"
             ],
             [
              0.8888888888888888,
              "#fdca26"
             ],
             [
              1,
              "#f0f921"
             ]
            ],
            "type": "contour"
           }
          ],
          "contourcarpet": [
           {
            "colorbar": {
             "outlinewidth": 0,
             "ticks": ""
            },
            "type": "contourcarpet"
           }
          ],
          "heatmap": [
           {
            "colorbar": {
             "outlinewidth": 0,
             "ticks": ""
            },
            "colorscale": [
             [
              0,
              "#0d0887"
             ],
             [
              0.1111111111111111,
              "#46039f"
             ],
             [
              0.2222222222222222,
              "#7201a8"
             ],
             [
              0.3333333333333333,
              "#9c179e"
             ],
             [
              0.4444444444444444,
              "#bd3786"
             ],
             [
              0.5555555555555556,
              "#d8576b"
             ],
             [
              0.6666666666666666,
              "#ed7953"
             ],
             [
              0.7777777777777778,
              "#fb9f3a"
             ],
             [
              0.8888888888888888,
              "#fdca26"
             ],
             [
              1,
              "#f0f921"
             ]
            ],
            "type": "heatmap"
           }
          ],
          "histogram": [
           {
            "marker": {
             "pattern": {
              "fillmode": "overlay",
              "size": 10,
              "solidity": 0.2
             }
            },
            "type": "histogram"
           }
          ],
          "histogram2d": [
           {
            "colorbar": {
             "outlinewidth": 0,
             "ticks": ""
            },
            "colorscale": [
             [
              0,
              "#0d0887"
             ],
             [
              0.1111111111111111,
              "#46039f"
             ],
             [
              0.2222222222222222,
              "#7201a8"
             ],
             [
              0.3333333333333333,
              "#9c179e"
             ],
             [
              0.4444444444444444,
              "#bd3786"
             ],
             [
              0.5555555555555556,
              "#d8576b"
             ],
             [
              0.6666666666666666,
              "#ed7953"
             ],
             [
              0.7777777777777778,
              "#fb9f3a"
             ],
             [
              0.8888888888888888,
              "#fdca26"
             ],
             [
              1,
              "#f0f921"
             ]
            ],
            "type": "histogram2d"
           }
          ],
          "histogram2dcontour": [
           {
            "colorbar": {
             "outlinewidth": 0,
             "ticks": ""
            },
            "colorscale": [
             [
              0,
              "#0d0887"
             ],
             [
              0.1111111111111111,
              "#46039f"
             ],
             [
              0.2222222222222222,
              "#7201a8"
             ],
             [
              0.3333333333333333,
              "#9c179e"
             ],
             [
              0.4444444444444444,
              "#bd3786"
             ],
             [
              0.5555555555555556,
              "#d8576b"
             ],
             [
              0.6666666666666666,
              "#ed7953"
             ],
             [
              0.7777777777777778,
              "#fb9f3a"
             ],
             [
              0.8888888888888888,
              "#fdca26"
             ],
             [
              1,
              "#f0f921"
             ]
            ],
            "type": "histogram2dcontour"
           }
          ],
          "mesh3d": [
           {
            "colorbar": {
             "outlinewidth": 0,
             "ticks": ""
            },
            "type": "mesh3d"
           }
          ],
          "parcoords": [
           {
            "line": {
             "colorbar": {
              "outlinewidth": 0,
              "ticks": ""
             }
            },
            "type": "parcoords"
           }
          ],
          "pie": [
           {
            "automargin": true,
            "type": "pie"
           }
          ],
          "scatter": [
           {
            "fillpattern": {
             "fillmode": "overlay",
             "size": 10,
             "solidity": 0.2
            },
            "type": "scatter"
           }
          ],
          "scatter3d": [
           {
            "line": {
             "colorbar": {
              "outlinewidth": 0,
              "ticks": ""
             }
            },
            "marker": {
             "colorbar": {
              "outlinewidth": 0,
              "ticks": ""
             }
            },
            "type": "scatter3d"
           }
          ],
          "scattercarpet": [
           {
            "marker": {
             "colorbar": {
              "outlinewidth": 0,
              "ticks": ""
             }
            },
            "type": "scattercarpet"
           }
          ],
          "scattergeo": [
           {
            "marker": {
             "colorbar": {
              "outlinewidth": 0,
              "ticks": ""
             }
            },
            "type": "scattergeo"
           }
          ],
          "scattergl": [
           {
            "marker": {
             "colorbar": {
              "outlinewidth": 0,
              "ticks": ""
             }
            },
            "type": "scattergl"
           }
          ],
          "scattermap": [
           {
            "marker": {
             "colorbar": {
              "outlinewidth": 0,
              "ticks": ""
             }
            },
            "type": "scattermap"
           }
          ],
          "scattermapbox": [
           {
            "marker": {
             "colorbar": {
              "outlinewidth": 0,
              "ticks": ""
             }
            },
            "type": "scattermapbox"
           }
          ],
          "scatterpolar": [
           {
            "marker": {
             "colorbar": {
              "outlinewidth": 0,
              "ticks": ""
             }
            },
            "type": "scatterpolar"
           }
          ],
          "scatterpolargl": [
           {
            "marker": {
             "colorbar": {
              "outlinewidth": 0,
              "ticks": ""
             }
            },
            "type": "scatterpolargl"
           }
          ],
          "scatterternary": [
           {
            "marker": {
             "colorbar": {
              "outlinewidth": 0,
              "ticks": ""
             }
            },
            "type": "scatterternary"
           }
          ],
          "surface": [
           {
            "colorbar": {
             "outlinewidth": 0,
             "ticks": ""
            },
            "colorscale": [
             [
              0,
              "#0d0887"
             ],
             [
              0.1111111111111111,
              "#46039f"
             ],
             [
              0.2222222222222222,
              "#7201a8"
             ],
             [
              0.3333333333333333,
              "#9c179e"
             ],
             [
              0.4444444444444444,
              "#bd3786"
             ],
             [
              0.5555555555555556,
              "#d8576b"
             ],
             [
              0.6666666666666666,
              "#ed7953"
             ],
             [
              0.7777777777777778,
              "#fb9f3a"
             ],
             [
              0.8888888888888888,
              "#fdca26"
             ],
             [
              1,
              "#f0f921"
             ]
            ],
            "type": "surface"
           }
          ],
          "table": [
           {
            "cells": {
             "fill": {
              "color": "#EBF0F8"
             },
             "line": {
              "color": "white"
             }
            },
            "header": {
             "fill": {
              "color": "#C8D4E3"
             },
             "line": {
              "color": "white"
             }
            },
            "type": "table"
           }
          ]
         },
         "layout": {
          "annotationdefaults": {
           "arrowcolor": "#2a3f5f",
           "arrowhead": 0,
           "arrowwidth": 1
          },
          "autotypenumbers": "strict",
          "coloraxis": {
           "colorbar": {
            "outlinewidth": 0,
            "ticks": ""
           }
          },
          "colorscale": {
           "diverging": [
            [
             0,
             "#8e0152"
            ],
            [
             0.1,
             "#c51b7d"
            ],
            [
             0.2,
             "#de77ae"
            ],
            [
             0.3,
             "#f1b6da"
            ],
            [
             0.4,
             "#fde0ef"
            ],
            [
             0.5,
             "#f7f7f7"
            ],
            [
             0.6,
             "#e6f5d0"
            ],
            [
             0.7,
             "#b8e186"
            ],
            [
             0.8,
             "#7fbc41"
            ],
            [
             0.9,
             "#4d9221"
            ],
            [
             1,
             "#276419"
            ]
           ],
           "sequential": [
            [
             0,
             "#0d0887"
            ],
            [
             0.1111111111111111,
             "#46039f"
            ],
            [
             0.2222222222222222,
             "#7201a8"
            ],
            [
             0.3333333333333333,
             "#9c179e"
            ],
            [
             0.4444444444444444,
             "#bd3786"
            ],
            [
             0.5555555555555556,
             "#d8576b"
            ],
            [
             0.6666666666666666,
             "#ed7953"
            ],
            [
             0.7777777777777778,
             "#fb9f3a"
            ],
            [
             0.8888888888888888,
             "#fdca26"
            ],
            [
             1,
             "#f0f921"
            ]
           ],
           "sequentialminus": [
            [
             0,
             "#0d0887"
            ],
            [
             0.1111111111111111,
             "#46039f"
            ],
            [
             0.2222222222222222,
             "#7201a8"
            ],
            [
             0.3333333333333333,
             "#9c179e"
            ],
            [
             0.4444444444444444,
             "#bd3786"
            ],
            [
             0.5555555555555556,
             "#d8576b"
            ],
            [
             0.6666666666666666,
             "#ed7953"
            ],
            [
             0.7777777777777778,
             "#fb9f3a"
            ],
            [
             0.8888888888888888,
             "#fdca26"
            ],
            [
             1,
             "#f0f921"
            ]
           ]
          },
          "colorway": [
           "#636efa",
           "#EF553B",
           "#00cc96",
           "#ab63fa",
           "#FFA15A",
           "#19d3f3",
           "#FF6692",
           "#B6E880",
           "#FF97FF",
           "#FECB52"
          ],
          "font": {
           "color": "#2a3f5f"
          },
          "geo": {
           "bgcolor": "white",
           "lakecolor": "white",
           "landcolor": "#E5ECF6",
           "showlakes": true,
           "showland": true,
           "subunitcolor": "white"
          },
          "hoverlabel": {
           "align": "left"
          },
          "hovermode": "closest",
          "mapbox": {
           "style": "light"
          },
          "paper_bgcolor": "white",
          "plot_bgcolor": "#E5ECF6",
          "polar": {
           "angularaxis": {
            "gridcolor": "white",
            "linecolor": "white",
            "ticks": ""
           },
           "bgcolor": "#E5ECF6",
           "radialaxis": {
            "gridcolor": "white",
            "linecolor": "white",
            "ticks": ""
           }
          },
          "scene": {
           "xaxis": {
            "backgroundcolor": "#E5ECF6",
            "gridcolor": "white",
            "gridwidth": 2,
            "linecolor": "white",
            "showbackground": true,
            "ticks": "",
            "zerolinecolor": "white"
           },
           "yaxis": {
            "backgroundcolor": "#E5ECF6",
            "gridcolor": "white",
            "gridwidth": 2,
            "linecolor": "white",
            "showbackground": true,
            "ticks": "",
            "zerolinecolor": "white"
           },
           "zaxis": {
            "backgroundcolor": "#E5ECF6",
            "gridcolor": "white",
            "gridwidth": 2,
            "linecolor": "white",
            "showbackground": true,
            "ticks": "",
            "zerolinecolor": "white"
           }
          },
          "shapedefaults": {
           "line": {
            "color": "#2a3f5f"
           }
          },
          "ternary": {
           "aaxis": {
            "gridcolor": "white",
            "linecolor": "white",
            "ticks": ""
           },
           "baxis": {
            "gridcolor": "white",
            "linecolor": "white",
            "ticks": ""
           },
           "bgcolor": "#E5ECF6",
           "caxis": {
            "gridcolor": "white",
            "linecolor": "white",
            "ticks": ""
           }
          },
          "title": {
           "x": 0.05
          },
          "xaxis": {
           "automargin": true,
           "gridcolor": "white",
           "linecolor": "white",
           "ticks": "",
           "title": {
            "standoff": 15
           },
           "zerolinecolor": "white",
           "zerolinewidth": 2
          },
          "yaxis": {
           "automargin": true,
           "gridcolor": "white",
           "linecolor": "white",
           "ticks": "",
           "title": {
            "standoff": 15
           },
           "zerolinecolor": "white",
           "zerolinewidth": 2
          }
         }
        },
        "title": {
         "text": "Cross-Validation R2 Scores"
        },
        "xaxis": {
         "anchor": "y",
         "domain": [
          0,
          1
         ],
         "title": {
          "text": "Fold"
         }
        },
        "yaxis": {
         "anchor": "x",
         "domain": [
          0,
          1
         ],
         "title": {
          "text": "R2 Score"
         }
        }
       }
      }
     },
     "metadata": {},
     "output_type": "display_data"
    },
    {
     "name": "stdout",
     "output_type": "stream",
     "text": [
      "✓ Saved CV scores plot\n"
     ]
    }
   ],
   "source": [
    "# 重新培训最佳模型\n",
    "rf_best = grid_search.best_estimator_\n",
    "rf_best.fit(X_train, y_train)\n",
    "\n",
    "y_pred_best = rf_best.predict(X_test)\n",
    "\n",
    "# 3. KFold 交叉验证\n",
    "print(\"Performing K-Fold Cross-Validation...\")\n",
    "kf = KFold(n_splits=5, shuffle=True, random_state=42)\n",
    "cv_scores = cross_val_score(rf_best, X_train, y_train, cv=kf, scoring='r2')\n",
    "\n",
    "mean_cv_score = np.mean(cv_scores)\n",
    "\n",
    "cv_df = pd.DataFrame({\"Fold\": list(range(1, 6)), \"R2 Score\": cv_scores})\n",
    "fig_cv = px.bar(cv_df, x=\"Fold\", y=\"R2 Score\", title=\"Cross-Validation R2 Scores\")\n",
    "fig_cv.add_hline(y=mean_cv_score, line_dash=\"solid\", line_color=\"red\", \n",
    "                 annotation_text=f\"Mean R2: {mean_cv_score:.4f}\", annotation_position=\"top left\")\n",
    "\n",
    "fig_cv.write_html('rf_reports/figures/cv_scores.html')\n",
    "fig_cv.show()\n",
    "print(\"✓ Saved CV scores plot\")"
   ]
  },
  {
   "cell_type": "code",
   "execution_count": 10,
   "id": "3795021b",
   "metadata": {},
   "outputs": [
    {
     "name": "stdout",
     "output_type": "stream",
     "text": [
      "Performing Bootstrap Resampling...\n"
     ]
    },
    {
     "data": {
      "application/vnd.plotly.v1+json": {
       "config": {
        "plotlyServerURL": "https://plot.ly"
       },
       "data": [
        {
         "bingroup": "x",
         "hovertemplate": "R2 Score=%{x}<br>count=%{y}<extra></extra>",
         "legendgroup": "",
         "marker": {
          "color": "#636efa",
          "pattern": {
           "shape": ""
          }
         },
         "name": "",
         "nbinsx": 20,
         "orientation": "v",
         "showlegend": false,
         "type": "histogram",
         "x": {
          "bdata": "3Fegk2sV7D9/+yFU3B/sP7YvrNkVEew/fmIEyAIq7D8l74e5dTLsP7HxHVFuPuw/Sk3VueAS7D9A0vkV2RvsP6+2RL17Muw/2sp0EP8T7D+4Pq3c+hjsP+3hG8NvJew/PsvNq0Em7D+bSzRVxDDsPx5hZneQEOw/el02XME37D9XsL6D8ynsP4mQ5CKbG+w/a5/Z7nEu7D9WYGDvLDvsPya+PowVLew//vye4LZJ7D+ZFbDcOTrsP9eCpGssJew/kLgwGYMU7D9qGX3TDA/sP5aZ+NH3N+w/nzX3TXA17D+yZEWTcETsP0pZmnEgJew/DRweBw5H7D9eyfXBHCzsP/DfvEgeQuw/EA5H9ocR7D+omW5G/u7rPxZfTxocDew/YBsppcUt7D8bON/d8kPsPwIFrJBBJuw/RB07e50r7D/19O23yg/sP7xDuedJKuw/bPl9Fnc17D/OJwV8CRnsP0XnZ6S7Huw/A8KNTO5K7D/JjNrvNkLsP5WgaYKiJuw/sFWT2RUg7D9WTs1nvkXsPw==",
          "dtype": "f8"
         },
         "xaxis": "x",
         "yaxis": "y"
        }
       ],
       "layout": {
        "annotations": [
         {
          "showarrow": false,
          "text": "Mean: 0.8800",
          "x": 0.879989211564011,
          "xanchor": "left",
          "xref": "x",
          "y": 1,
          "yanchor": "top",
          "yref": "y domain"
         },
         {
          "showarrow": false,
          "text": "2.5%: 0.8767",
          "x": 0.8766536071435271,
          "xanchor": "right",
          "xref": "x",
          "y": 0,
          "yanchor": "bottom",
          "yref": "y domain"
         },
         {
          "showarrow": false,
          "text": "97.5%: 0.8839",
          "x": 0.8839252883247576,
          "xanchor": "left",
          "xref": "x",
          "y": 0,
          "yanchor": "bottom",
          "yref": "y domain"
         }
        ],
        "barmode": "relative",
        "legend": {
         "tracegroupgap": 0
        },
        "shapes": [
         {
          "line": {
           "color": "red",
           "dash": "solid"
          },
          "type": "line",
          "x0": 0.879989211564011,
          "x1": 0.879989211564011,
          "xref": "x",
          "y0": 0,
          "y1": 1,
          "yref": "y domain"
         },
         {
          "line": {
           "color": "green",
           "dash": "dash"
          },
          "type": "line",
          "x0": 0.8766536071435271,
          "x1": 0.8766536071435271,
          "xref": "x",
          "y0": 0,
          "y1": 1,
          "yref": "y domain"
         },
         {
          "line": {
           "color": "green",
           "dash": "dash"
          },
          "type": "line",
          "x0": 0.8839252883247576,
          "x1": 0.8839252883247576,
          "xref": "x",
          "y0": 0,
          "y1": 1,
          "yref": "y domain"
         }
        ],
        "template": {
         "data": {
          "bar": [
           {
            "error_x": {
             "color": "#2a3f5f"
            },
            "error_y": {
             "color": "#2a3f5f"
            },
            "marker": {
             "line": {
              "color": "#E5ECF6",
              "width": 0.5
             },
             "pattern": {
              "fillmode": "overlay",
              "size": 10,
              "solidity": 0.2
             }
            },
            "type": "bar"
           }
          ],
          "barpolar": [
           {
            "marker": {
             "line": {
              "color": "#E5ECF6",
              "width": 0.5
             },
             "pattern": {
              "fillmode": "overlay",
              "size": 10,
              "solidity": 0.2
             }
            },
            "type": "barpolar"
           }
          ],
          "carpet": [
           {
            "aaxis": {
             "endlinecolor": "#2a3f5f",
             "gridcolor": "white",
             "linecolor": "white",
             "minorgridcolor": "white",
             "startlinecolor": "#2a3f5f"
            },
            "baxis": {
             "endlinecolor": "#2a3f5f",
             "gridcolor": "white",
             "linecolor": "white",
             "minorgridcolor": "white",
             "startlinecolor": "#2a3f5f"
            },
            "type": "carpet"
           }
          ],
          "choropleth": [
           {
            "colorbar": {
             "outlinewidth": 0,
             "ticks": ""
            },
            "type": "choropleth"
           }
          ],
          "contour": [
           {
            "colorbar": {
             "outlinewidth": 0,
             "ticks": ""
            },
            "colorscale": [
             [
              0,
              "#0d0887"
             ],
             [
              0.1111111111111111,
              "#46039f"
             ],
             [
              0.2222222222222222,
              "#7201a8"
             ],
             [
              0.3333333333333333,
              "#9c179e"
             ],
             [
              0.4444444444444444,
              "#bd3786"
             ],
             [
              0.5555555555555556,
              "#d8576b"
             ],
             [
              0.6666666666666666,
              "#ed7953"
             ],
             [
              0.7777777777777778,
              "#fb9f3a"
             ],
             [
              0.8888888888888888,
              "#fdca26"
             ],
             [
              1,
              "#f0f921"
             ]
            ],
            "type": "contour"
           }
          ],
          "contourcarpet": [
           {
            "colorbar": {
             "outlinewidth": 0,
             "ticks": ""
            },
            "type": "contourcarpet"
           }
          ],
          "heatmap": [
           {
            "colorbar": {
             "outlinewidth": 0,
             "ticks": ""
            },
            "colorscale": [
             [
              0,
              "#0d0887"
             ],
             [
              0.1111111111111111,
              "#46039f"
             ],
             [
              0.2222222222222222,
              "#7201a8"
             ],
             [
              0.3333333333333333,
              "#9c179e"
             ],
             [
              0.4444444444444444,
              "#bd3786"
             ],
             [
              0.5555555555555556,
              "#d8576b"
             ],
             [
              0.6666666666666666,
              "#ed7953"
             ],
             [
              0.7777777777777778,
              "#fb9f3a"
             ],
             [
              0.8888888888888888,
              "#fdca26"
             ],
             [
              1,
              "#f0f921"
             ]
            ],
            "type": "heatmap"
           }
          ],
          "histogram": [
           {
            "marker": {
             "pattern": {
              "fillmode": "overlay",
              "size": 10,
              "solidity": 0.2
             }
            },
            "type": "histogram"
           }
          ],
          "histogram2d": [
           {
            "colorbar": {
             "outlinewidth": 0,
             "ticks": ""
            },
            "colorscale": [
             [
              0,
              "#0d0887"
             ],
             [
              0.1111111111111111,
              "#46039f"
             ],
             [
              0.2222222222222222,
              "#7201a8"
             ],
             [
              0.3333333333333333,
              "#9c179e"
             ],
             [
              0.4444444444444444,
              "#bd3786"
             ],
             [
              0.5555555555555556,
              "#d8576b"
             ],
             [
              0.6666666666666666,
              "#ed7953"
             ],
             [
              0.7777777777777778,
              "#fb9f3a"
             ],
             [
              0.8888888888888888,
              "#fdca26"
             ],
             [
              1,
              "#f0f921"
             ]
            ],
            "type": "histogram2d"
           }
          ],
          "histogram2dcontour": [
           {
            "colorbar": {
             "outlinewidth": 0,
             "ticks": ""
            },
            "colorscale": [
             [
              0,
              "#0d0887"
             ],
             [
              0.1111111111111111,
              "#46039f"
             ],
             [
              0.2222222222222222,
              "#7201a8"
             ],
             [
              0.3333333333333333,
              "#9c179e"
             ],
             [
              0.4444444444444444,
              "#bd3786"
             ],
             [
              0.5555555555555556,
              "#d8576b"
             ],
             [
              0.6666666666666666,
              "#ed7953"
             ],
             [
              0.7777777777777778,
              "#fb9f3a"
             ],
             [
              0.8888888888888888,
              "#fdca26"
             ],
             [
              1,
              "#f0f921"
             ]
            ],
            "type": "histogram2dcontour"
           }
          ],
          "mesh3d": [
           {
            "colorbar": {
             "outlinewidth": 0,
             "ticks": ""
            },
            "type": "mesh3d"
           }
          ],
          "parcoords": [
           {
            "line": {
             "colorbar": {
              "outlinewidth": 0,
              "ticks": ""
             }
            },
            "type": "parcoords"
           }
          ],
          "pie": [
           {
            "automargin": true,
            "type": "pie"
           }
          ],
          "scatter": [
           {
            "fillpattern": {
             "fillmode": "overlay",
             "size": 10,
             "solidity": 0.2
            },
            "type": "scatter"
           }
          ],
          "scatter3d": [
           {
            "line": {
             "colorbar": {
              "outlinewidth": 0,
              "ticks": ""
             }
            },
            "marker": {
             "colorbar": {
              "outlinewidth": 0,
              "ticks": ""
             }
            },
            "type": "scatter3d"
           }
          ],
          "scattercarpet": [
           {
            "marker": {
             "colorbar": {
              "outlinewidth": 0,
              "ticks": ""
             }
            },
            "type": "scattercarpet"
           }
          ],
          "scattergeo": [
           {
            "marker": {
             "colorbar": {
              "outlinewidth": 0,
              "ticks": ""
             }
            },
            "type": "scattergeo"
           }
          ],
          "scattergl": [
           {
            "marker": {
             "colorbar": {
              "outlinewidth": 0,
              "ticks": ""
             }
            },
            "type": "scattergl"
           }
          ],
          "scattermap": [
           {
            "marker": {
             "colorbar": {
              "outlinewidth": 0,
              "ticks": ""
             }
            },
            "type": "scattermap"
           }
          ],
          "scattermapbox": [
           {
            "marker": {
             "colorbar": {
              "outlinewidth": 0,
              "ticks": ""
             }
            },
            "type": "scattermapbox"
           }
          ],
          "scatterpolar": [
           {
            "marker": {
             "colorbar": {
              "outlinewidth": 0,
              "ticks": ""
             }
            },
            "type": "scatterpolar"
           }
          ],
          "scatterpolargl": [
           {
            "marker": {
             "colorbar": {
              "outlinewidth": 0,
              "ticks": ""
             }
            },
            "type": "scatterpolargl"
           }
          ],
          "scatterternary": [
           {
            "marker": {
             "colorbar": {
              "outlinewidth": 0,
              "ticks": ""
             }
            },
            "type": "scatterternary"
           }
          ],
          "surface": [
           {
            "colorbar": {
             "outlinewidth": 0,
             "ticks": ""
            },
            "colorscale": [
             [
              0,
              "#0d0887"
             ],
             [
              0.1111111111111111,
              "#46039f"
             ],
             [
              0.2222222222222222,
              "#7201a8"
             ],
             [
              0.3333333333333333,
              "#9c179e"
             ],
             [
              0.4444444444444444,
              "#bd3786"
             ],
             [
              0.5555555555555556,
              "#d8576b"
             ],
             [
              0.6666666666666666,
              "#ed7953"
             ],
             [
              0.7777777777777778,
              "#fb9f3a"
             ],
             [
              0.8888888888888888,
              "#fdca26"
             ],
             [
              1,
              "#f0f921"
             ]
            ],
            "type": "surface"
           }
          ],
          "table": [
           {
            "cells": {
             "fill": {
              "color": "#EBF0F8"
             },
             "line": {
              "color": "white"
             }
            },
            "header": {
             "fill": {
              "color": "#C8D4E3"
             },
             "line": {
              "color": "white"
             }
            },
            "type": "table"
           }
          ]
         },
         "layout": {
          "annotationdefaults": {
           "arrowcolor": "#2a3f5f",
           "arrowhead": 0,
           "arrowwidth": 1
          },
          "autotypenumbers": "strict",
          "coloraxis": {
           "colorbar": {
            "outlinewidth": 0,
            "ticks": ""
           }
          },
          "colorscale": {
           "diverging": [
            [
             0,
             "#8e0152"
            ],
            [
             0.1,
             "#c51b7d"
            ],
            [
             0.2,
             "#de77ae"
            ],
            [
             0.3,
             "#f1b6da"
            ],
            [
             0.4,
             "#fde0ef"
            ],
            [
             0.5,
             "#f7f7f7"
            ],
            [
             0.6,
             "#e6f5d0"
            ],
            [
             0.7,
             "#b8e186"
            ],
            [
             0.8,
             "#7fbc41"
            ],
            [
             0.9,
             "#4d9221"
            ],
            [
             1,
             "#276419"
            ]
           ],
           "sequential": [
            [
             0,
             "#0d0887"
            ],
            [
             0.1111111111111111,
             "#46039f"
            ],
            [
             0.2222222222222222,
             "#7201a8"
            ],
            [
             0.3333333333333333,
             "#9c179e"
            ],
            [
             0.4444444444444444,
             "#bd3786"
            ],
            [
             0.5555555555555556,
             "#d8576b"
            ],
            [
             0.6666666666666666,
             "#ed7953"
            ],
            [
             0.7777777777777778,
             "#fb9f3a"
            ],
            [
             0.8888888888888888,
             "#fdca26"
            ],
            [
             1,
             "#f0f921"
            ]
           ],
           "sequentialminus": [
            [
             0,
             "#0d0887"
            ],
            [
             0.1111111111111111,
             "#46039f"
            ],
            [
             0.2222222222222222,
             "#7201a8"
            ],
            [
             0.3333333333333333,
             "#9c179e"
            ],
            [
             0.4444444444444444,
             "#bd3786"
            ],
            [
             0.5555555555555556,
             "#d8576b"
            ],
            [
             0.6666666666666666,
             "#ed7953"
            ],
            [
             0.7777777777777778,
             "#fb9f3a"
            ],
            [
             0.8888888888888888,
             "#fdca26"
            ],
            [
             1,
             "#f0f921"
            ]
           ]
          },
          "colorway": [
           "#636efa",
           "#EF553B",
           "#00cc96",
           "#ab63fa",
           "#FFA15A",
           "#19d3f3",
           "#FF6692",
           "#B6E880",
           "#FF97FF",
           "#FECB52"
          ],
          "font": {
           "color": "#2a3f5f"
          },
          "geo": {
           "bgcolor": "white",
           "lakecolor": "white",
           "landcolor": "#E5ECF6",
           "showlakes": true,
           "showland": true,
           "subunitcolor": "white"
          },
          "hoverlabel": {
           "align": "left"
          },
          "hovermode": "closest",
          "mapbox": {
           "style": "light"
          },
          "paper_bgcolor": "white",
          "plot_bgcolor": "#E5ECF6",
          "polar": {
           "angularaxis": {
            "gridcolor": "white",
            "linecolor": "white",
            "ticks": ""
           },
           "bgcolor": "#E5ECF6",
           "radialaxis": {
            "gridcolor": "white",
            "linecolor": "white",
            "ticks": ""
           }
          },
          "scene": {
           "xaxis": {
            "backgroundcolor": "#E5ECF6",
            "gridcolor": "white",
            "gridwidth": 2,
            "linecolor": "white",
            "showbackground": true,
            "ticks": "",
            "zerolinecolor": "white"
           },
           "yaxis": {
            "backgroundcolor": "#E5ECF6",
            "gridcolor": "white",
            "gridwidth": 2,
            "linecolor": "white",
            "showbackground": true,
            "ticks": "",
            "zerolinecolor": "white"
           },
           "zaxis": {
            "backgroundcolor": "#E5ECF6",
            "gridcolor": "white",
            "gridwidth": 2,
            "linecolor": "white",
            "showbackground": true,
            "ticks": "",
            "zerolinecolor": "white"
           }
          },
          "shapedefaults": {
           "line": {
            "color": "#2a3f5f"
           }
          },
          "ternary": {
           "aaxis": {
            "gridcolor": "white",
            "linecolor": "white",
            "ticks": ""
           },
           "baxis": {
            "gridcolor": "white",
            "linecolor": "white",
            "ticks": ""
           },
           "bgcolor": "#E5ECF6",
           "caxis": {
            "gridcolor": "white",
            "linecolor": "white",
            "ticks": ""
           }
          },
          "title": {
           "x": 0.05
          },
          "xaxis": {
           "automargin": true,
           "gridcolor": "white",
           "linecolor": "white",
           "ticks": "",
           "title": {
            "standoff": 15
           },
           "zerolinecolor": "white",
           "zerolinewidth": 2
          },
          "yaxis": {
           "automargin": true,
           "gridcolor": "white",
           "linecolor": "white",
           "ticks": "",
           "title": {
            "standoff": 15
           },
           "zerolinecolor": "white",
           "zerolinewidth": 2
          }
         }
        },
        "title": {
         "text": "Bootstrap Distribution of R2 Scores"
        },
        "xaxis": {
         "anchor": "y",
         "domain": [
          0,
          1
         ],
         "title": {
          "text": "R2 Score"
         }
        },
        "yaxis": {
         "anchor": "x",
         "domain": [
          0,
          1
         ],
         "title": {
          "text": "count"
         }
        }
       }
      }
     },
     "metadata": {},
     "output_type": "display_data"
    },
    {
     "name": "stdout",
     "output_type": "stream",
     "text": [
      "✓ Saved bootstrap distribution plot\n"
     ]
    }
   ],
   "source": [
    "# 4. Bootstrap Resampling\n",
    "print(\"Performing Bootstrap Resampling...\")\n",
    "def bootstrap_resampling(model, X, y, n_iterations=50, random_state=42):\n",
    "    np.random.seed(random_state)\n",
    "    n_samples = X.shape[0]\n",
    "    scores = []\n",
    "    \n",
    "    for _ in range(n_iterations):\n",
    "        indices = np.random.choice(n_samples, n_samples, replace=True)\n",
    "        X_boot, y_boot = X.iloc[indices], y.iloc[indices]\n",
    "        model.fit(X_boot, y_boot)\n",
    "        score = model.score(X_test, y_test)\n",
    "        scores.append(score)\n",
    "        \n",
    "    return scores\n",
    "\n",
    "bootstrap_scores = bootstrap_resampling(rf_best, X_train, y_train)\n",
    "bootstrap_df = pd.DataFrame({\"R2 Score\": bootstrap_scores})\n",
    "\n",
    "# 计算均值和置信区间\n",
    "mean_score = np.mean(bootstrap_scores)\n",
    "lower_percentile = np.percentile(bootstrap_scores, 2.5)\n",
    "upper_percentile = np.percentile(bootstrap_scores, 97.5)\n",
    "\n",
    "fig_boot = px.histogram(bootstrap_df, x=\"R2 Score\", nbins=20, title=\"Bootstrap Distribution of R2 Scores\")\n",
    "\n",
    "# 添加均值和置信区间线\n",
    "fig_boot.add_vline(x=mean_score, line_color=\"red\", line_dash=\"solid\", \n",
    "                   annotation_text=f\"Mean: {mean_score:.4f}\", annotation_position=\"top right\")\n",
    "fig_boot.add_vline(x=lower_percentile, line_color=\"green\", line_dash=\"dash\",\n",
    "                   annotation_text=f\"2.5%: {lower_percentile:.4f}\", annotation_position=\"bottom left\")\n",
    "fig_boot.add_vline(x=upper_percentile, line_color=\"green\", line_dash=\"dash\",\n",
    "                   annotation_text=f\"97.5%: {upper_percentile:.4f}\", annotation_position=\"bottom right\")\n",
    "\n",
    "fig_boot.write_html('rf_reports/figures/bootstrap_distribution.html')\n",
    "fig_boot.show()\n",
    "print(\"✓ Saved bootstrap distribution plot\")"
   ]
  },
  {
   "cell_type": "code",
   "execution_count": 11,
   "id": "2ee6d0c7",
   "metadata": {},
   "outputs": [
    {
     "name": "stdout",
     "output_type": "stream",
     "text": [
      "Generating PDP plots for top features...\n"
     ]
    },
    {
     "data": {
      "image/png": "[encoded data removed]",
      "text/plain": [
       "<Figure size 1200x800 with 11 Axes>"
      ]
     },
     "metadata": {},
     "output_type": "display_data"
    },
    {
     "name": "stdout",
     "output_type": "stream",
     "text": [
      "✓ Saved PDP plots (pdp_plots.png)\n"
     ]
    }
   ],
   "source": [
    "# 5. PDP (Partial Dependence Plot) 分析\n",
    "from sklearn.inspection import PartialDependenceDisplay\n",
    "\n",
    "print(\"Generating PDP plots for top features...\")\n",
    "\n",
    "# 选择top 3重要特征\n",
    "top_features = feature_importance.sort_values('Importance', ascending=False).head(10)['Feature'].tolist()\n",
    "\n",
    "fig_pdp, ax_pdp = plt.subplots(figsize=(12, 8))\n",
    "\n",
    "display = PartialDependenceDisplay.from_estimator(\n",
    "    rf_best,\n",
    "    X_train,\n",
    "    features=top_features,\n",
    "    grid_resolution=50,\n",
    "    ax=ax_pdp\n",
    ")\n",
    "\n",
    "plt.tight_layout()\n",
    "plt.savefig('rf_reports/figures/pdp_plots.png')\n",
    "plt.show()\n",
    "plt.close()\n",
    "\n",
    "print(\"✓ Saved PDP plots (pdp_plots.png)\")\n",
    "\n"
   ]
  },
  {
   "cell_type": "code",
   "execution_count": 12,
   "id": "3d22066e",
   "metadata": {},
   "outputs": [
    {
     "name": "stdout",
     "output_type": "stream",
     "text": [
      "Generating ICE plots for top feature...\n"
     ]
    },
    {
     "data": {
      "image/png": "[encoded data removed]",
      "text/plain": [
       "<Figure size 800x600 with 2 Axes>"
      ]
     },
     "metadata": {},
     "output_type": "display_data"
    },
    {
     "name": "stdout",
     "output_type": "stream",
     "text": [
      "✓ Saved ICE plot for nasa_temp_max_lag1 (ice_plot.png)\n"
     ]
    }
   ],
   "source": [
    "# 6. ICE (Individual Conditional Expectation) 分析\n",
    "from sklearn.inspection import PartialDependenceDisplay\n",
    "\n",
    "print(\"Generating ICE plots for top feature...\")\n",
    "\n",
    "# 选取最重要的一个特征\n",
    "top_feature = feature_importance.sort_values('Importance', ascending=False).iloc[0]['Feature']\n",
    "\n",
    "fig_ice, ax_ice = plt.subplots(figsize=(8, 6))\n",
    "\n",
    "display = PartialDependenceDisplay.from_estimator(\n",
    "    rf_best,\n",
    "    X_train,\n",
    "    features=[top_feature],\n",
    "    kind=\"individual\",  # individual表示ICE\n",
    "    subsample=50,       # 选50个样本画，防止太密\n",
    "    grid_resolution=50,\n",
    "    ax=ax_ice,\n",
    ")\n",
    "\n",
    "plt.tight_layout()\n",
    "plt.savefig('rf_reports/figures/ice_plot.png')\n",
    "plt.show()\n",
    "plt.close()\n",
    "\n",
    "print(f\"✓ Saved ICE plot for {top_feature} (ice_plot.png)\")\n"
   ]
  }
 ],
 "metadata": {
  "kernelspec": {
   "display_name": "Python 3",
   "language": "python",
   "name": "python3"
  },
  "language_info": {
   "codemirror_mode": {
    "name": "ipython",
    "version": 3
   },
   "file_extension": ".py",
   "mimetype": "text/x-python",
   "name": "python",
   "nbconvert_exporter": "python",
   "pygments_lexer": "ipython3",
   "version": "3.11.9"
  }
 },
 "nbformat": 4,
 "nbformat_minor": 5
}
